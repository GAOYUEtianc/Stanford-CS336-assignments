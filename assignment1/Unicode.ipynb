{
 "cells": [
  {
   "cell_type": "code",
   "execution_count": 1,
   "id": "7c88c613",
   "metadata": {},
   "outputs": [],
   "source": [
    "def unicode8(input_string) -> bytes:\n",
    "    return input_string.encode(\"utf-8\")\n",
    "\n",
    "def unicode8_decode(input_bytes) -> str:\n",
    "    return input_bytes.decode(\"utf-8\")\n",
    "\n",
    "def unicode16(input_string) -> bytes:\n",
    "    return input_string.encode(\"utf-16\")\n",
    "\n",
    "def unicode16_decode(input_bytes) -> str:\n",
    "    return input_bytes.decode(\"utf-16\")\n",
    "\n",
    "def unicode32(input_string) -> bytes:\n",
    "    return input_string.encode(\"utf-32\")\n",
    "\n",
    "def unicode32_decode(input_bytes) -> str:\n",
    "    return input_bytes.decode(\"utf-32\")"
   ]
  },
  {
   "cell_type": "code",
   "execution_count": 8,
   "id": "36d6c9cf",
   "metadata": {},
   "outputs": [
    {
     "name": "stdout",
     "output_type": "stream",
     "text": [
      "Original String: Hello, World!\n",
      "UTF-8 Encoded: b'Hello, World!'\n",
      "UTF-16 Encoded: b'\\xff\\xfeH\\x00e\\x00l\\x00l\\x00o\\x00,\\x00 \\x00W\\x00o\\x00r\\x00l\\x00d\\x00!\\x00'\n",
      "UTF-32 Encoded: b'\\xff\\xfe\\x00\\x00H\\x00\\x00\\x00e\\x00\\x00\\x00l\\x00\\x00\\x00l\\x00\\x00\\x00o\\x00\\x00\\x00,\\x00\\x00\\x00 \\x00\\x00\\x00W\\x00\\x00\\x00o\\x00\\x00\\x00r\\x00\\x00\\x00l\\x00\\x00\\x00d\\x00\\x00\\x00!\\x00\\x00\\x00'\n",
      "list of utf-8 bytes: 13 [72, 101, 108, 108, 111, 44, 32, 87, 111, 114, 108, 100, 33]\n",
      "list of utf-16 bytes: 28 [255, 254, 72, 0, 101, 0, 108, 0, 108, 0, 111, 0, 44, 0, 32, 0, 87, 0, 111, 0, 114, 0, 108, 0, 100, 0, 33, 0]\n",
      "list of utf-32 bytes: 56 [255, 254, 0, 0, 72, 0, 0, 0, 101, 0, 0, 0, 108, 0, 0, 0, 108, 0, 0, 0, 111, 0, 0, 0, 44, 0, 0, 0, 32, 0, 0, 0, 87, 0, 0, 0, 111, 0, 0, 0, 114, 0, 0, 0, 108, 0, 0, 0, 100, 0, 0, 0, 33, 0, 0, 0]\n"
     ]
    }
   ],
   "source": [
    "input_string = \"Hello, World!\"\n",
    "print(\"Original String:\", input_string)\n",
    "uni_8 = unicode8(input_string)\n",
    "uni_16 = unicode16(input_string)\n",
    "uni_32 = unicode32(input_string)\n",
    "print(\"UTF-8 Encoded:\", uni_8)\n",
    "print(\"UTF-16 Encoded:\", uni_16)\n",
    "print(\"UTF-32 Encoded:\", uni_32)\n",
    "print(\"list of utf-8 bytes:\", len(list(uni_8)), list(uni_8))\n",
    "print(\"list of utf-16 bytes:\", len(list(uni_16)), list(uni_16))\n",
    "print(\"list of utf-32 bytes:\", len(list(uni_32)), list(uni_32))"
   ]
  },
  {
   "cell_type": "code",
   "execution_count": 9,
   "id": "f39cf962",
   "metadata": {},
   "outputs": [
    {
     "name": "stdout",
     "output_type": "stream",
     "text": [
      "Original String: 你好，世界！\n",
      "UTF-8 Encoded: b'\\xe4\\xbd\\xa0\\xe5\\xa5\\xbd\\xef\\xbc\\x8c\\xe4\\xb8\\x96\\xe7\\x95\\x8c\\xef\\xbc\\x81'\n",
      "UTF-16 Encoded: b'\\xff\\xfe`O}Y\\x0c\\xff\\x16NLu\\x01\\xff'\n",
      "UTF-32 Encoded: b'\\xff\\xfe\\x00\\x00`O\\x00\\x00}Y\\x00\\x00\\x0c\\xff\\x00\\x00\\x16N\\x00\\x00Lu\\x00\\x00\\x01\\xff\\x00\\x00'\n",
      "list of utf-8 bytes: 18 [228, 189, 160, 229, 165, 189, 239, 188, 140, 228, 184, 150, 231, 149, 140, 239, 188, 129]\n",
      "list of utf-16 bytes: 14 [255, 254, 96, 79, 125, 89, 12, 255, 22, 78, 76, 117, 1, 255]\n",
      "list of utf-32 bytes: 28 [255, 254, 0, 0, 96, 79, 0, 0, 125, 89, 0, 0, 12, 255, 0, 0, 22, 78, 0, 0, 76, 117, 0, 0, 1, 255, 0, 0]\n"
     ]
    }
   ],
   "source": [
    "input_string = \"你好，世界！\"\n",
    "print(\"Original String:\", input_string)\n",
    "uni_8 = unicode8(input_string)\n",
    "uni_16 = unicode16(input_string)\n",
    "uni_32 = unicode32(input_string)\n",
    "print(\"UTF-8 Encoded:\", uni_8)\n",
    "print(\"UTF-16 Encoded:\", uni_16)\n",
    "print(\"UTF-32 Encoded:\", uni_32)\n",
    "print(\"list of utf-8 bytes:\", len(list(uni_8)), list(uni_8))\n",
    "print(\"list of utf-16 bytes:\", len(list(uni_16)), list(uni_16))\n",
    "print(\"list of utf-32 bytes:\", len(list(uni_32)), list(uni_32))"
   ]
  },
  {
   "cell_type": "code",
   "execution_count": 10,
   "id": "5c410991",
   "metadata": {},
   "outputs": [
    {
     "name": "stdout",
     "output_type": "stream",
     "text": [
      "Original String: Hello，せかい！\n",
      "UTF-8 Encoded: b'Hello\\xef\\xbc\\x8c\\xe3\\x81\\x9b\\xe3\\x81\\x8b\\xe3\\x81\\x84\\xef\\xbc\\x81'\n",
      "UTF-16 Encoded: b'\\xff\\xfeH\\x00e\\x00l\\x00l\\x00o\\x00\\x0c\\xff[0K0D0\\x01\\xff'\n",
      "UTF-32 Encoded: b'\\xff\\xfe\\x00\\x00H\\x00\\x00\\x00e\\x00\\x00\\x00l\\x00\\x00\\x00l\\x00\\x00\\x00o\\x00\\x00\\x00\\x0c\\xff\\x00\\x00[0\\x00\\x00K0\\x00\\x00D0\\x00\\x00\\x01\\xff\\x00\\x00'\n",
      "list of utf-8 bytes: 20 [72, 101, 108, 108, 111, 239, 188, 140, 227, 129, 155, 227, 129, 139, 227, 129, 132, 239, 188, 129]\n",
      "list of utf-16 bytes: 22 [255, 254, 72, 0, 101, 0, 108, 0, 108, 0, 111, 0, 12, 255, 91, 48, 75, 48, 68, 48, 1, 255]\n",
      "list of utf-32 bytes: 44 [255, 254, 0, 0, 72, 0, 0, 0, 101, 0, 0, 0, 108, 0, 0, 0, 108, 0, 0, 0, 111, 0, 0, 0, 12, 255, 0, 0, 91, 48, 0, 0, 75, 48, 0, 0, 68, 48, 0, 0, 1, 255, 0, 0]\n"
     ]
    }
   ],
   "source": [
    "input_string = \"Hello，せかい！\"\n",
    "print(\"Original String:\", input_string)\n",
    "uni_8 = unicode8(input_string)\n",
    "uni_16 = unicode16(input_string)\n",
    "uni_32 = unicode32(input_string)\n",
    "print(\"UTF-8 Encoded:\", uni_8)\n",
    "print(\"UTF-16 Encoded:\", uni_16)\n",
    "print(\"UTF-32 Encoded:\", uni_32)\n",
    "print(\"list of utf-8 bytes:\", len(list(uni_8)), list(uni_8))\n",
    "print(\"list of utf-16 bytes:\", len(list(uni_16)), list(uni_16))\n",
    "print(\"list of utf-32 bytes:\", len(list(uni_32)), list(uni_32))"
   ]
  },
  {
   "cell_type": "code",
   "execution_count": 12,
   "id": "6058b638",
   "metadata": {},
   "outputs": [
    {
     "name": "stdout",
     "output_type": "stream",
     "text": [
      "Original String: Hello，world, world? world ！\n",
      "UTF-8 Encoded: b'Hello\\xef\\xbc\\x8cworld, world? world \\xef\\xbc\\x81'\n",
      "UTF-16 Encoded: b'\\xff\\xfeH\\x00e\\x00l\\x00l\\x00o\\x00\\x0c\\xffw\\x00o\\x00r\\x00l\\x00d\\x00,\\x00 \\x00w\\x00o\\x00r\\x00l\\x00d\\x00?\\x00 \\x00w\\x00o\\x00r\\x00l\\x00d\\x00 \\x00\\x01\\xff'\n",
      "UTF-32 Encoded: b'\\xff\\xfe\\x00\\x00H\\x00\\x00\\x00e\\x00\\x00\\x00l\\x00\\x00\\x00l\\x00\\x00\\x00o\\x00\\x00\\x00\\x0c\\xff\\x00\\x00w\\x00\\x00\\x00o\\x00\\x00\\x00r\\x00\\x00\\x00l\\x00\\x00\\x00d\\x00\\x00\\x00,\\x00\\x00\\x00 \\x00\\x00\\x00w\\x00\\x00\\x00o\\x00\\x00\\x00r\\x00\\x00\\x00l\\x00\\x00\\x00d\\x00\\x00\\x00?\\x00\\x00\\x00 \\x00\\x00\\x00w\\x00\\x00\\x00o\\x00\\x00\\x00r\\x00\\x00\\x00l\\x00\\x00\\x00d\\x00\\x00\\x00 \\x00\\x00\\x00\\x01\\xff\\x00\\x00'\n",
      "list of utf-8 bytes: 31 [72, 101, 108, 108, 111, 239, 188, 140, 119, 111, 114, 108, 100, 44, 32, 119, 111, 114, 108, 100, 63, 32, 119, 111, 114, 108, 100, 32, 239, 188, 129]\n",
      "list of utf-16 bytes: 56 [255, 254, 72, 0, 101, 0, 108, 0, 108, 0, 111, 0, 12, 255, 119, 0, 111, 0, 114, 0, 108, 0, 100, 0, 44, 0, 32, 0, 119, 0, 111, 0, 114, 0, 108, 0, 100, 0, 63, 0, 32, 0, 119, 0, 111, 0, 114, 0, 108, 0, 100, 0, 32, 0, 1, 255]\n",
      "list of utf-32 bytes: 112 [255, 254, 0, 0, 72, 0, 0, 0, 101, 0, 0, 0, 108, 0, 0, 0, 108, 0, 0, 0, 111, 0, 0, 0, 12, 255, 0, 0, 119, 0, 0, 0, 111, 0, 0, 0, 114, 0, 0, 0, 108, 0, 0, 0, 100, 0, 0, 0, 44, 0, 0, 0, 32, 0, 0, 0, 119, 0, 0, 0, 111, 0, 0, 0, 114, 0, 0, 0, 108, 0, 0, 0, 100, 0, 0, 0, 63, 0, 0, 0, 32, 0, 0, 0, 119, 0, 0, 0, 111, 0, 0, 0, 114, 0, 0, 0, 108, 0, 0, 0, 100, 0, 0, 0, 32, 0, 0, 0, 1, 255, 0, 0]\n"
     ]
    }
   ],
   "source": [
    "input_string = \"Hello，world, world? world ！\"\n",
    "print(\"Original String:\", input_string)\n",
    "uni_8 = unicode8(input_string)\n",
    "uni_16 = unicode16(input_string)\n",
    "uni_32 = unicode32(input_string)\n",
    "print(\"UTF-8 Encoded:\", uni_8)\n",
    "print(\"UTF-16 Encoded:\", uni_16)\n",
    "print(\"UTF-32 Encoded:\", uni_32)\n",
    "print(\"list of utf-8 bytes:\", len(list(uni_8)), list(uni_8))\n",
    "print(\"list of utf-16 bytes:\", len(list(uni_16)), list(uni_16))\n",
    "print(\"list of utf-32 bytes:\", len(list(uni_32)), list(uni_32))"
   ]
  },
  {
   "cell_type": "markdown",
   "id": "8b5768db",
   "metadata": {},
   "source": [
    "Why prefer using UTF-8 to encode string when training tokenizer? \n",
    "\n",
    "Most training data (English, code, common punctuation, etc.) is ASCII-heavy → fits in 1 byte under UTF-8.\n",
    "UTF-16 would use around 2× the space for the same data, and UTF-32 would use about 4× the space.\n",
    "At corpus scale (billions of tokens), this savings is huge."
   ]
  },
  {
   "cell_type": "code",
   "execution_count": 14,
   "id": "bfe453ac",
   "metadata": {},
   "outputs": [],
   "source": [
    "def decode_utf8_bytes_to_string_wrong(bytes_string: bytes):\n",
    "    return \"\".join([bytes([b]).decode(\"utf-8\") for b in bytes_string])"
   ]
  },
  {
   "cell_type": "code",
   "execution_count": 16,
   "id": "8930a02a",
   "metadata": {},
   "outputs": [
    {
     "data": {
      "text/plain": [
       "'hello'"
      ]
     },
     "execution_count": 16,
     "metadata": {},
     "output_type": "execute_result"
    }
   ],
   "source": [
    "decode_utf8_bytes_to_string_wrong(\"hello\".encode(\"utf-8\"))  # works"
   ]
  },
  {
   "cell_type": "code",
   "execution_count": 22,
   "id": "9c9ef1aa",
   "metadata": {},
   "outputs": [
    {
     "data": {
      "text/plain": [
       "b'\\xef\\xbc\\x81'"
      ]
     },
     "execution_count": 22,
     "metadata": {},
     "output_type": "execute_result"
    }
   ],
   "source": [
    "\"！\".encode(\"utf-8\") # Multibyte character"
   ]
  },
  {
   "cell_type": "code",
   "execution_count": 23,
   "id": "42b359f0",
   "metadata": {},
   "outputs": [
    {
     "ename": "UnicodeDecodeError",
     "evalue": "'utf-8' codec can't decode byte 0xef in position 0: unexpected end of data",
     "output_type": "error",
     "traceback": [
      "\u001b[0;31m---------------------------------------------------------------------------\u001b[0m",
      "\u001b[0;31mUnicodeDecodeError\u001b[0m                        Traceback (most recent call last)",
      "Cell \u001b[0;32mIn[23], line 1\u001b[0m\n\u001b[0;32m----> 1\u001b[0m \u001b[43mdecode_utf8_bytes_to_string_wrong\u001b[49m\u001b[43m(\u001b[49m\u001b[38;5;124;43m\"\u001b[39;49m\u001b[38;5;124;43m！\u001b[39;49m\u001b[38;5;124;43m\"\u001b[39;49m\u001b[38;5;241;43m.\u001b[39;49m\u001b[43mencode\u001b[49m\u001b[43m(\u001b[49m\u001b[38;5;124;43m\"\u001b[39;49m\u001b[38;5;124;43mutf-8\u001b[39;49m\u001b[38;5;124;43m\"\u001b[39;49m\u001b[43m)\u001b[49m\u001b[43m)\u001b[49m  \u001b[38;5;66;03m# not works\u001b[39;00m\n",
      "Cell \u001b[0;32mIn[14], line 2\u001b[0m, in \u001b[0;36mdecode_utf8_bytes_to_string_wrong\u001b[0;34m(bytes_string)\u001b[0m\n\u001b[1;32m      1\u001b[0m \u001b[38;5;28;01mdef\u001b[39;00m \u001b[38;5;21mdecode_utf8_bytes_to_string_wrong\u001b[39m(bytes_string: \u001b[38;5;28mbytes\u001b[39m):\n\u001b[0;32m----> 2\u001b[0m     \u001b[38;5;28;01mreturn\u001b[39;00m \u001b[38;5;124m\"\u001b[39m\u001b[38;5;124m\"\u001b[39m\u001b[38;5;241m.\u001b[39mjoin([\u001b[38;5;28;43mbytes\u001b[39;49m\u001b[43m(\u001b[49m\u001b[43m[\u001b[49m\u001b[43mb\u001b[49m\u001b[43m]\u001b[49m\u001b[43m)\u001b[49m\u001b[38;5;241;43m.\u001b[39;49m\u001b[43mdecode\u001b[49m\u001b[43m(\u001b[49m\u001b[38;5;124;43m\"\u001b[39;49m\u001b[38;5;124;43mutf-8\u001b[39;49m\u001b[38;5;124;43m\"\u001b[39;49m\u001b[43m)\u001b[49m \u001b[38;5;28;01mfor\u001b[39;00m b \u001b[38;5;129;01min\u001b[39;00m bytes_string])\n",
      "\u001b[0;31mUnicodeDecodeError\u001b[0m: 'utf-8' codec can't decode byte 0xef in position 0: unexpected end of data"
     ]
    }
   ],
   "source": [
    "decode_utf8_bytes_to_string_wrong(\"！\".encode(\"utf-8\"))  # not works"
   ]
  },
  {
   "cell_type": "markdown",
   "id": "422858cb",
   "metadata": {},
   "source": [
    "Why this is wrong\n",
    "\n",
    "UTF-8 is a variable-length encoding:\n",
    "ASCII chars (A–Z, etc.) = 1 byte\n",
    "Characters like ， (U+FF0C, fullwidth comma) or ！ (U+FF01, fullwidth exclamation) = 3 bytes each"
   ]
  },
  {
   "cell_type": "code",
   "execution_count": null,
   "id": "45ac047c",
   "metadata": {},
   "outputs": [
    {
     "name": "stderr",
     "output_type": "stream",
     "text": [
      "/opt/homebrew/anaconda3/envs/llm/lib/python3.12/site-packages/tqdm/auto.py:21: TqdmWarning: IProgress not found. Please update jupyter and ipywidgets. See https://ipywidgets.readthedocs.io/en/stable/user_install.html\n",
      "  from .autonotebook import tqdm as notebook_tqdm\n",
      "Generating train split: 100%|██████████| 2119719/2119719 [00:01<00:00, 1361790.46 examples/s]\n",
      "Generating validation split: 100%|██████████| 21990/21990 [00:00<00:00, 992464.95 examples/s]\n"
     ]
    }
   ],
   "source": [
    "from datasets import load_dataset\n",
    "ds = load_dataset(\"roneneldan/TinyStories\")"
   ]
  },
  {
   "cell_type": "code",
   "execution_count": 33,
   "id": "f5cfe90f",
   "metadata": {},
   "outputs": [],
   "source": [
    "validation_set = ds['validation']\n",
    "texts = [example['text'] for example in validation_set]"
   ]
  },
  {
   "cell_type": "code",
   "execution_count": 35,
   "id": "505c0fba",
   "metadata": {},
   "outputs": [],
   "source": [
    "with open('data/tinystories_validation.txt', 'w', encoding='utf-8') as f:\n",
    "    for text in texts:\n",
    "        f.write(text + '\\n')"
   ]
  },
  {
   "cell_type": "code",
   "execution_count": 36,
   "id": "a0ff1932",
   "metadata": {},
   "outputs": [
    {
     "data": {
      "text/plain": [
       "21990"
      ]
     },
     "execution_count": 36,
     "metadata": {},
     "output_type": "execute_result"
    }
   ],
   "source": [
    "len(validation_set)"
   ]
  },
  {
   "cell_type": "code",
   "execution_count": 40,
   "id": "dae9f318",
   "metadata": {},
   "outputs": [
    {
     "name": "stdout",
     "output_type": "stream",
     "text": [
      "Thu Aug 28 19:13:29 2025    step4.prof\n",
      "\n",
      "         34519410 function calls (34519408 primitive calls) in 1.607 seconds\n",
      "\n",
      "   Ordered by: cumulative time\n",
      "\n",
      "   ncalls  tottime  percall  cumtime  percall filename:lineno(function)\n",
      " 13959770    1.034    0.000    1.034    0.000 {built-in method _heapq.heappush}\n",
      " 20424843    0.401    0.000    0.401    0.000 {method 'append' of 'list' objects}\n",
      "    63367    0.161    0.000    0.161    0.000 {built-in method _heapq.heappop}\n",
      "        1    0.007    0.007    0.007    0.007 train_bpe.py:193(<dictcomp>)\n",
      "    63367    0.003    0.000    0.003    0.000 {method 'get' of 'dict' objects}\n",
      "        1    0.000    0.000    0.000    0.000 train_bpe.py:188(<dictcomp>)\n",
      "     7141    0.000    0.000    0.000    0.000 __init__.py:601(__missing__)\n",
      "        1    0.000    0.000    0.000    0.000 train_bpe.py:201(<listcomp>)\n",
      "      653    0.000    0.000    0.000    0.000 {built-in method builtins.len}\n",
      "        1    0.000    0.000    0.000    0.000 {built-in method _heapq.heapify}\n",
      "      245    0.000    0.000    0.000    0.000 {method 'items' of 'dict' objects}\n",
      "        2    0.000    0.000    0.000    0.000 __init__.py:660(update)\n",
      "        3    0.000    0.000    0.000    0.000 {built-in method builtins.print}\n",
      "        1    0.000    0.000    0.000    0.000 {built-in method builtins.isinstance}\n",
      "        1    0.000    0.000    0.000    0.000 <frozen abc>:117(__instancecheck__)\n",
      "        1    0.000    0.000    0.000    0.000 {built-in method _abc._abc_instancecheck}\n",
      "      2/1    0.000    0.000    0.000    0.000 <frozen abc>:121(__subclasscheck__)\n",
      "      2/1    0.000    0.000    0.000    0.000 {built-in method _abc._abc_subclasscheck}\n",
      "        1    0.000    0.000    0.000    0.000 __init__.py:587(__init__)\n",
      "        1    0.000    0.000    0.000    0.000 {function Counter.update at 0x102714b80}\n",
      "        2    0.000    0.000    0.000    0.000 <frozen _collections_abc>:409(__subclasshook__)\n",
      "        2    0.000    0.000    0.000    0.000 {built-in method time.time}\n",
      "        1    0.000    0.000    0.000    0.000 {method 'keys' of 'dict' objects}\n",
      "        1    0.000    0.000    0.000    0.000 {method 'disable' of '_lsprof.Profiler' objects}\n",
      "\n",
      "\n",
      "   Ordered by: cumulative time\n",
      "   List reduced from 24 to 20 due to restriction <20>\n",
      "\n",
      "Function                                   was called by...\n",
      "                                               ncalls  tottime  cumtime\n",
      "{built-in method _heapq.heappush}          <- \n",
      "{method 'append' of 'list' objects}        <- \n",
      "{built-in method _heapq.heappop}           <- \n",
      "train_bpe.py:193(<dictcomp>)               <- \n",
      "{method 'get' of 'dict' objects}           <- \n",
      "train_bpe.py:188(<dictcomp>)               <- \n",
      "__init__.py:601(__missing__)               <- \n",
      "train_bpe.py:201(<listcomp>)               <- \n",
      "{built-in method builtins.len}             <- \n",
      "{built-in method _heapq.heapify}           <- \n",
      "{method 'items' of 'dict' objects}         <- \n",
      "__init__.py:660(update)                    <-       1    0.000    0.000  __init__.py:587(__init__)\n",
      "{built-in method builtins.print}           <- \n",
      "{built-in method builtins.isinstance}      <-       1    0.000    0.000  __init__.py:660(update)\n",
      "<frozen abc>:117(__instancecheck__)        <-       1    0.000    0.000  {built-in method builtins.isinstance}\n",
      "{built-in method _abc._abc_instancecheck}  <-       1    0.000    0.000  <frozen abc>:117(__instancecheck__)\n",
      "<frozen abc>:121(__subclasscheck__)        <-       1    0.000    0.000  {built-in method _abc._abc_instancecheck}\n",
      "                                                    1    0.000    0.000  {built-in method _abc._abc_subclasscheck}\n",
      "{built-in method _abc._abc_subclasscheck}  <-     2/1    0.000    0.000  <frozen abc>:121(__subclasscheck__)\n",
      "__init__.py:587(__init__)                  <- \n",
      "{function Counter.update at 0x102714b80}   <-       1    0.000    0.000  __init__.py:660(update)\n",
      "\n",
      "\n",
      "   Ordered by: cumulative time\n",
      "   List reduced from 24 to 20 due to restriction <20>\n",
      "\n",
      "Function                                   called...\n",
      "                                               ncalls  tottime  cumtime\n",
      "{built-in method _heapq.heappush}          -> \n",
      "{method 'append' of 'list' objects}        -> \n",
      "{built-in method _heapq.heappop}           -> \n",
      "train_bpe.py:193(<dictcomp>)               -> \n",
      "{method 'get' of 'dict' objects}           -> \n",
      "train_bpe.py:188(<dictcomp>)               -> \n",
      "__init__.py:601(__missing__)               -> \n",
      "train_bpe.py:201(<listcomp>)               -> \n",
      "{built-in method builtins.len}             -> \n",
      "{built-in method _heapq.heapify}           -> \n",
      "{method 'items' of 'dict' objects}         -> \n",
      "__init__.py:660(update)                    ->       1    0.000    0.000  {built-in method builtins.isinstance}\n",
      "                                                    1    0.000    0.000  {function Counter.update at 0x102714b80}\n",
      "{built-in method builtins.print}           -> \n",
      "{built-in method builtins.isinstance}      ->       1    0.000    0.000  <frozen abc>:117(__instancecheck__)\n",
      "<frozen abc>:117(__instancecheck__)        ->       1    0.000    0.000  {built-in method _abc._abc_instancecheck}\n",
      "{built-in method _abc._abc_instancecheck}  ->       1    0.000    0.000  <frozen abc>:121(__subclasscheck__)\n",
      "<frozen abc>:121(__subclasscheck__)        ->     2/1    0.000    0.000  {built-in method _abc._abc_subclasscheck}\n",
      "{built-in method _abc._abc_subclasscheck}  ->       2    0.000    0.000  <frozen _collections_abc>:409(__subclasshook__)\n",
      "                                                    1    0.000    0.000  <frozen abc>:121(__subclasscheck__)\n",
      "__init__.py:587(__init__)                  ->       1    0.000    0.000  __init__.py:660(update)\n",
      "{function Counter.update at 0x102714b80}   -> \n",
      "\n",
      "\n"
     ]
    },
    {
     "data": {
      "text/plain": [
       "<pstats.Stats at 0x1506afb60>"
      ]
     },
     "execution_count": 40,
     "metadata": {},
     "output_type": "execute_result"
    }
   ],
   "source": [
    "# Analyze the time bottleneck\n",
    "import pstats\n",
    "p = pstats.Stats(\"step4.prof\").strip_dirs()\n",
    "p.sort_stats(\"cumulative\").print_stats(50)\n",
    "p.print_callers(20)\n",
    "p.print_callees(20)"
   ]
  },
  {
   "cell_type": "code",
   "execution_count": null,
   "id": "134e5e37",
   "metadata": {},
   "outputs": [],
   "source": []
  }
 ],
 "metadata": {
  "kernelspec": {
   "display_name": "llm",
   "language": "python",
   "name": "python3"
  },
  "language_info": {
   "codemirror_mode": {
    "name": "ipython",
    "version": 3
   },
   "file_extension": ".py",
   "mimetype": "text/x-python",
   "name": "python",
   "nbconvert_exporter": "python",
   "pygments_lexer": "ipython3",
   "version": "3.12.2"
  }
 },
 "nbformat": 4,
 "nbformat_minor": 5
}
